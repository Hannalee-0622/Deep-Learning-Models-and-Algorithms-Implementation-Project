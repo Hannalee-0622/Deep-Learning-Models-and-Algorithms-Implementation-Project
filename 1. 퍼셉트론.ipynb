{
 "cells": [
  {
   "cell_type": "markdown",
   "id": "15e10306",
   "metadata": {},
   "source": [
    "# [DeepLearning] [1] DNN - 퍼셉트론"
   ]
  },
  {
   "cell_type": "markdown",
   "id": "727a66f8",
   "metadata": {},
   "source": [
    "1. 단일 퍼셉트론을 사용하여 AND, OR, NAND 논리 게이트를 구현하세요. 아래의 요구사항을 따르세요.\n",
    "\n",
    "* AND 게이트의 가중치와 편향을 사용하여 퍼셉트론을 구현하세요.\n",
    "* OR 게이트의 가중치와 편향을 사용하여 퍼셉트론을 구현하세요.\n",
    "* NAND 게이트의 가중치와 편향을 사용하여 퍼셉트론을 구현하세요.\n",
    "* 입력이 [0, 0], [1, 0], [0, 1], [1, 1]일 때의 출력 결과를 확인하세요."
   ]
  },
  {
   "cell_type": "code",
   "execution_count": 1,
   "id": "c5613368",
   "metadata": {},
   "outputs": [
    {
     "name": "stdout",
     "output_type": "stream",
     "text": [
      "AND Gate Results:\n",
      "Input: 0, 0 -> Output: 0\n",
      "Input: 0, 1 -> Output: 0\n",
      "Input: 1, 0 -> Output: 0\n",
      "Input: 1, 1 -> Output: 1\n",
      "\n",
      "OR Gate Results:\n",
      "Input: 0, 0 -> Output: 0\n",
      "Input: 0, 1 -> Output: 1\n",
      "Input: 1, 0 -> Output: 1\n",
      "Input: 1, 1 -> Output: 1\n",
      "\n",
      "NAND Gate Results:\n",
      "Input: 0, 0 -> Output: 1\n",
      "Input: 0, 1 -> Output: 1\n",
      "Input: 1, 0 -> Output: 1\n",
      "Input: 1, 1 -> Output: 0\n"
     ]
    }
   ],
   "source": [
    "import numpy as np\n",
    "\n",
    "inputs = [(0, 0), (0, 1), (1, 0), (1, 1)]\n",
    "\n",
    "# AND Gate\n",
    "def AND(x1, x2):\n",
    "    w = np.array([0.5, 0.5])\n",
    "    b = -0.7\n",
    "    return 1 if np.sum(w * np.array([x1, x2])) + b > 0 else 0\n",
    "\n",
    "# OR Gate\n",
    "def OR(x1, x2):\n",
    "    w = np.array([0.5, 0.5])\n",
    "    b = -0.2\n",
    "    return 1 if np.sum(w * np.array([x1, x2])) + b > 0 else 0\n",
    "\n",
    "# NAND Gate\n",
    "def NAND(x1, x2):\n",
    "    w = np.array([-0.5, -0.5])\n",
    "    b = 0.7\n",
    "    return 1 if np.sum(w * np.array([x1, x2])) + b > 0 else 0\n",
    "\n",
    "print(\"AND Gate Results:\")\n",
    "for x1, x2 in inputs:\n",
    "    print(f\"Input: {x1}, {x2} -> Output: {AND(x1, x2)}\")\n",
    "\n",
    "print(\"\\nOR Gate Results:\")\n",
    "for x1, x2 in inputs:\n",
    "    print(f\"Input: {x1}, {x2} -> Output: {OR(x1, x2)}\")\n",
    "\n",
    "print(\"\\nNAND Gate Results:\")\n",
    "for x1, x2 in inputs:\n",
    "    print(f\"Input: {x1}, {x2} -> Output: {NAND(x1, x2)}\")"
   ]
  },
  {
   "cell_type": "markdown",
   "id": "7a4272df",
   "metadata": {},
   "source": [
    "2. XOR 게이트는 단일 퍼셉트론으로는 구현할 수 없습니다. NAND, OR, AND 게이트를 조합하여 XOR 게이트를 구현하세요."
   ]
  },
  {
   "cell_type": "code",
   "execution_count": 2,
   "id": "9eaed135",
   "metadata": {},
   "outputs": [
    {
     "name": "stdout",
     "output_type": "stream",
     "text": [
      "\n",
      "XOR Gate Results:\n",
      "Input: 0, 0 -> Output: 0\n",
      "Input: 0, 1 -> Output: 1\n",
      "Input: 1, 0 -> Output: 1\n",
      "Input: 1, 1 -> Output: 0\n"
     ]
    }
   ],
   "source": [
    "def XOR(x1, x2):\n",
    "    s1 = NAND(x1, x2)\n",
    "    s2 = OR(x1, x2)\n",
    "    return AND(s1, s2)\n",
    "\n",
    "print(\"\\nXOR Gate Results:\")\n",
    "for x1, x2 in inputs:\n",
    "    print(f\"Input: {x1}, {x2} -> Output: {XOR(x1, x2)}\")"
   ]
  },
  {
   "cell_type": "markdown",
   "id": "196bae18",
   "metadata": {},
   "source": [
    "3. 두 입력값 $x_1$과 $x_2$에 대해 다음 논리 연산을 수행하는 회로를 만드세요.\n",
    "* $x_1$과 $x_2$에 대해 NAND 연산을 수행하세요.\n",
    "* NAND 연산의 결과에 대해 OR 연산을 수행하세요.\n",
    "* 최종 결과를 계산하여 출력하세요."
   ]
  },
  {
   "cell_type": "code",
   "execution_count": 3,
   "id": "3b315f50",
   "metadata": {},
   "outputs": [
    {
     "name": "stdout",
     "output_type": "stream",
     "text": [
      "\n",
      "Custom Circuit Results:\n",
      "Input: 0, 0 -> Output: 1\n",
      "Input: 0, 1 -> Output: 1\n",
      "Input: 1, 0 -> Output: 1\n",
      "Input: 1, 1 -> Output: 1\n"
     ]
    }
   ],
   "source": [
    "def custom_circuit(x1, x2):\n",
    "    nand_result = NAND(x1, x2)\n",
    "    return OR(nand_result, x2)\n",
    "\n",
    "print(\"\\nCustom Circuit Results:\")\n",
    "for x1, x2 in inputs:\n",
    "    print(f\"Input: {x1}, {x2} -> Output: {custom_circuit(x1, x2)}\")"
   ]
  },
  {
   "cell_type": "markdown",
   "id": "245c8866",
   "metadata": {},
   "source": [
    "4. 두 입력값 $x_1$과 $x_2$에 대해 다음 논리 연산을 수행하는 회로를 만드세요.\n",
    "* $x_1$과 $x_2$에 대해 AND 연산을 수행하세요.\n",
    "* 그 결과와 $x_2$에 대해 OR 연산을 수행하세요.\n",
    "* 최종 결과를 계산하여 출력하세요."
   ]
  },
  {
   "cell_type": "code",
   "execution_count": 4,
   "id": "fe736934",
   "metadata": {},
   "outputs": [
    {
     "name": "stdout",
     "output_type": "stream",
     "text": [
      "\n",
      "AND -> OR Circuit Results:\n",
      "Input: 0, 0 -> Output: 0\n",
      "Input: 0, 1 -> Output: 1\n",
      "Input: 1, 0 -> Output: 0\n",
      "Input: 1, 1 -> Output: 1\n"
     ]
    }
   ],
   "source": [
    "def and_then_or(x1, x2):\n",
    "    and_result = AND(x1, x2)\n",
    "    return OR(and_result, x2)\n",
    "\n",
    "print(\"\\nAND -> OR Circuit Results:\")\n",
    "for x1, x2 in inputs:\n",
    "    print(f\"Input: {x1}, {x2} -> Output: {and_then_or(x1, x2)}\")"
   ]
  },
  {
   "cell_type": "markdown",
   "id": "6722b1fd",
   "metadata": {},
   "source": [
    "5. 3개의 입력값 $x_1$, $x_2$, $x_3$에 대해 다음과 같은 논리 회로를 구성하세요.\n",
    "* $x_1$과 $x_2$에 대해 NAND 연산을 수행합니다.\n",
    "* $x_1$과 $x_3$에 대해 AND 연산을 수행합니다.\n",
    "* 그 결과를 $x_2$와 OR 연산을 수행하여 최종 출력을 계산합니다."
   ]
  },
  {
   "cell_type": "code",
   "execution_count": 5,
   "id": "a99da8f3",
   "metadata": {},
   "outputs": [
    {
     "name": "stdout",
     "output_type": "stream",
     "text": [
      "\n",
      "Custom Logic Circuit Results:\n",
      "Input: 0, 0, 0 -> Output: 0\n",
      "Input: 0, 1, 1 -> Output: 1\n",
      "Input: 1, 0, 1 -> Output: 1\n",
      "Input: 1, 1, 0 -> Output: 1\n"
     ]
    }
   ],
   "source": [
    "three_inputs = [(0, 0, 0), (0, 1, 1), (1, 0, 1), (1, 1, 0)]\n",
    "\n",
    "def custom_logic_circuit(x1, x2, x3):\n",
    "    nand_result = NAND(x1, x2)\n",
    "    and_result = AND(x1, x3)\n",
    "    return OR(and_result, x2)\n",
    "\n",
    "print(\"\\nCustom Logic Circuit Results:\")\n",
    "for x1, x2, x3 in three_inputs:\n",
    "    print(f\"Input: {x1}, {x2}, {x3} -> Output: {custom_logic_circuit(x1, x2, x3)}\")"
   ]
  }
 ],
 "metadata": {
  "kernelspec": {
   "display_name": "Python 3 (ipykernel)",
   "language": "python",
   "name": "python3"
  },
  "language_info": {
   "codemirror_mode": {
    "name": "ipython",
    "version": 3
   },
   "file_extension": ".py",
   "mimetype": "text/x-python",
   "name": "python",
   "nbconvert_exporter": "python",
   "pygments_lexer": "ipython3",
   "version": "3.11.7"
  }
 },
 "nbformat": 4,
 "nbformat_minor": 5
}
